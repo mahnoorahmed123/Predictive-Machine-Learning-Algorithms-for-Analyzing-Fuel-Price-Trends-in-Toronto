{
 "cells": [
  {
   "cell_type": "code",
   "execution_count": 1,
   "id": "c78c75db-3621-427e-a50a-7508e580984e",
   "metadata": {},
   "outputs": [],
   "source": [
    "import pandas as pd\n",
    "import numpy as np\n",
    "\n",
    "import matplotlib.pyplot as plt"
   ]
  },
  {
   "cell_type": "code",
   "execution_count": 2,
   "metadata": {},
   "outputs": [
    {
     "name": "stdout",
     "output_type": "stream",
     "text": [
      "Date                  0\n",
      "Pump Price            0\n",
      "Crude Cost            0\n",
      "Federal Excise Tax    0\n",
      "Federal Carbon Tax    0\n",
      " Ontario Tax          0\n",
      "GST/HST               0\n",
      "Wholesale Margin      0\n",
      "Retail Margin         0\n",
      "Region                0\n",
      "dtype: int64\n"
     ]
    }
   ],
   "source": [
    "\n",
    "#importing the dataset from the url\n",
    "df = \"https://ontario.ca/v1/files/fuel-prices/pumppricesall.csv\"\n",
    "data = pd.read_csv(df)\n",
    "#renaming the columns for better understanding\n",
    "data.columns= [\"Date\", \"Pump Price\", \"Crude Cost\", \"Federal Excise Tax\", \"Federal Carbon Tax\", \" Ontario Tax\", \"GST/HST\", \"Wholesale Margin\", \"Retail Margin\", \"Region\"]\n",
    "#counting the number of missing values\n",
    "na_count = data.isna().sum()\n",
    "print(na_count) #there are no missing values in the dataset\n",
    "\n",
    "\n",
    "\n",
    "\n"
   ]
  },
  {
   "cell_type": "code",
   "execution_count": 3,
   "metadata": {},
   "outputs": [
    {
     "name": "stdout",
     "output_type": "stream",
     "text": [
      "Mean Values: \n",
      " Pump Price            89.135683\n",
      "Crude Cost            35.542952\n",
      "Federal Excise Tax     9.499119\n",
      "Federal Carbon Tax     1.466079\n",
      " Ontario Tax          13.752643\n",
      "GST/HST                8.073789\n",
      "Wholesale Margin      14.882159\n",
      "Retail Margin          5.924449\n",
      "dtype: float64 \n",
      "\n",
      " Min Values: \n",
      " Pump Price            43.1\n",
      "Crude Cost            10.3\n",
      "Federal Excise Tax     4.5\n",
      "Federal Carbon Tax     0.0\n",
      " Ontario Tax           8.3\n",
      "GST/HST                3.1\n",
      "Wholesale Margin       3.4\n",
      "Retail Margin         -2.3\n",
      "dtype: float64 \n",
      "\n",
      " Max Values: \n",
      " Pump Price            207.2\n",
      "Crude Cost             95.3\n",
      "Federal Excise Tax     10.0\n",
      "Federal Carbon Tax     17.6\n",
      " Ontario Tax           14.7\n",
      "GST/HST                23.8\n",
      "Wholesale Margin       44.7\n",
      "Retail Margin          12.3\n",
      "dtype: float64 \n",
      "\n",
      " First Quartile: \n",
      " Pump Price            55.2\n",
      "Crude Cost            16.0\n",
      "Federal Excise Tax    10.0\n",
      "Federal Carbon Tax     0.0\n",
      " Ontario Tax          14.7\n",
      "GST/HST                3.6\n",
      "Wholesale Margin       7.9\n",
      "Retail Margin          4.1\n",
      "Name: 0.25, dtype: float64 \n",
      "\n",
      " Third Quartile: \n",
      " Pump Price            116.900\n",
      "Crude Cost             50.050\n",
      "Federal Excise Tax     10.000\n",
      "Federal Carbon Tax      0.000\n",
      " Ontario Tax           14.700\n",
      "GST/HST                13.300\n",
      "Wholesale Margin       21.075\n",
      "Retail Margin           7.500\n",
      "Name: 0.75, dtype: float64\n"
     ]
    }
   ],
   "source": [
    "# Brief overview of Toronto data\n",
    "\n",
    "toronto_data = data[data[\"Region\"] == \"Toronto\"]\n",
    "# Only using data with Toronto region and excluding the date and region columns\n",
    "toronto_numeric_data = toronto_data.drop(columns=[\"Date\", \"Region\"])\n",
    "toronto_mean_values = toronto_numeric_data.mean()\n",
    "toronto_min_values = toronto_numeric_data.min()\n",
    "toronto_max_values = toronto_numeric_data.max()\n",
    "toronto_first_quartile = toronto_numeric_data.quantile(0.25)\n",
    "toronto_third_quartile = toronto_numeric_data.quantile(0.75)\n",
    "\n",
    "print(\"Mean Values: \\n\", toronto_mean_values, \"\\n\\n\", \"Min Values: \\n\", toronto_min_values, \"\\n\\n\", \"Max Values: \\n\", toronto_max_values, \"\\n\\n\", \"First Quartile: \\n\", toronto_first_quartile, \"\\n\\n\", \"Third Quartile: \\n\", toronto_third_quartile)\n",
    "\n",
    "\n"
   ]
  },
  {
   "cell_type": "code",
   "execution_count": 4,
   "metadata": {},
   "outputs": [
    {
     "name": "stdout",
     "output_type": "stream",
     "text": [
      "Descriptive Statistics for Toronto Data:\n",
      "       Pump Price  Crude Cost  Federal Excise Tax  Federal Carbon Tax  \\\n",
      "count  454.000000  454.000000          454.000000          454.000000   \n",
      "mean    89.135683   35.542952            9.499119            1.466079   \n",
      "std     35.196294   19.598960            1.105255            3.877033   \n",
      "min     43.100000   10.300000            4.500000            0.000000   \n",
      "25%     55.200000   16.000000           10.000000            0.000000   \n",
      "50%     84.900000   33.050000           10.000000            0.000000   \n",
      "75%    116.900000   50.050000           10.000000            0.000000   \n",
      "max    207.200000   95.300000           10.000000           17.600000   \n",
      "\n",
      "        Ontario Tax     GST/HST  Wholesale Margin  Retail Margin  \n",
      "count    454.000000  454.000000        454.000000     454.000000  \n",
      "mean      13.752643    8.073789         14.882159       5.924449  \n",
      "std        2.032154    5.289762          8.458015       2.562964  \n",
      "min        8.300000    3.100000          3.400000      -2.300000  \n",
      "25%       14.700000    3.600000          7.900000       4.100000  \n",
      "50%       14.700000    4.800000         11.600000       6.100000  \n",
      "75%       14.700000   13.300000         21.075000       7.500000  \n",
      "max       14.700000   23.800000         44.700000      12.300000  \n"
     ]
    }
   ],
   "source": [
    "# Brief descriptive statistics for Toronto data\n",
    "print(\"Descriptive Statistics for Toronto Data:\")\n",
    "print(toronto_numeric_data.describe())"
   ]
  }
 ],
 "metadata": {
  "kernelspec": {
   "display_name": "Python 3",
   "language": "python",
   "name": "python3"
  },
  "language_info": {
   "codemirror_mode": {
    "name": "ipython",
    "version": 3
   },
   "file_extension": ".py",
   "mimetype": "text/x-python",
   "name": "python",
   "nbconvert_exporter": "python",
   "pygments_lexer": "ipython3",
   "version": "3.12.3"
  }
 },
 "nbformat": 4,
 "nbformat_minor": 2
}
